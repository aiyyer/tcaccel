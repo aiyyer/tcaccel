{
 "cells": [
  {
   "cell_type": "code",
   "execution_count": 2,
   "metadata": {},
   "outputs": [
    {
     "name": "stdout",
     "output_type": "stream",
     "text": [
      "convert -trim scatter_speed_ALL_0_90.png scatter_speed_ALL_0_90.png\n",
      "convert -trim beta_speed_AS_20_50.png beta_speed_AS_20_50.png\n",
      "convert -trim scatter_speed_JASO_20_50.png scatter_speed_JASO_20_50.png\n",
      "convert -trim scatter_speed_AS_20_50.png scatter_speed_AS_20_50.png\n",
      "convert -trim beta_speed_ALL_0_90.png beta_speed_ALL_0_90.png\n",
      "convert -trim beta_speed_JASO_20_50.png beta_speed_JASO_20_50.png\n"
     ]
    }
   ],
   "source": [
    "import os\n",
    "from subprocess import Popen, PIPE\n",
    "\n",
    "for file in os.listdir(\"./\"):\n",
    "    if file.endswith(\".png\"):\n",
    "        #print(os.path.join(\"./\", file))\n",
    "\n",
    "        string = 'convert -trim ' + file + \" \" + file\n",
    "        print(string)\n",
    "        os.system(string)"
   ]
  },
  {
   "cell_type": "code",
   "execution_count": null,
   "metadata": {},
   "outputs": [],
   "source": []
  },
  {
   "cell_type": "code",
   "execution_count": null,
   "metadata": {},
   "outputs": [],
   "source": []
  }
 ],
 "metadata": {
  "kernelspec": {
   "display_name": "Python 3",
   "language": "python",
   "name": "python3"
  },
  "language_info": {
   "codemirror_mode": {
    "name": "ipython",
    "version": 3
   },
   "file_extension": ".py",
   "mimetype": "text/x-python",
   "name": "python",
   "nbconvert_exporter": "python",
   "pygments_lexer": "ipython3",
   "version": "3.7.6"
  }
 },
 "nbformat": 4,
 "nbformat_minor": 4
}
