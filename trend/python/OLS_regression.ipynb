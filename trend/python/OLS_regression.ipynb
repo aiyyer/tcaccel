{
 "cells": [
  {
   "cell_type": "code",
   "execution_count": 16,
   "metadata": {},
   "outputs": [
    {
     "name": "stdout",
     "output_type": "stream",
     "text": [
      "<xarray.Dataset>\n",
      "Dimensions:    (ncl0: 1, ncl1: 1, ncl2: 1, ncl3: 1, ncl5: 38822, ncl6: 38822, ncl7: 54, ncl8: 54, storm: 38822)\n",
      "Dimensions without coordinates: ncl0, ncl1, ncl2, ncl3, ncl5, ncl6, ncl7, ncl8, storm\n",
      "Data variables:\n",
      "    startYear  (ncl0) int32 ...\n",
      "    endYear    (ncl1) int32 ...\n",
      "    latS       (ncl2) float32 ...\n",
      "    latN       (ncl3) float32 ...\n",
      "    Dates      (storm) datetime64[ns] ...\n",
      "    Data       (ncl5) float64 ...\n",
      "    Fracyear   (ncl6) float32 ...\n",
      "    years      (ncl7) float32 ...\n",
      "    yearly     (ncl8) float64 ...\n"
     ]
    }
   ],
   "source": [
    "'''\n",
    "OLS using stats models\n",
    "'''\n",
    "\n",
    "\n",
    "\n",
    "import xarray as xr\n",
    "import statsmodels.api as sm\n",
    "import numpy as np\n",
    "import pandas as pd\n",
    "import matplotlib.pyplot as plt\n",
    "from statsmodels.sandbox.regression.predstd import wls_prediction_std\n",
    "\n",
    "fileName = './speed_ALL_atl_0_90.nc'\n",
    "\n",
    "\n",
    "ds = xr.open_dataset(fileName)\n",
    "print(ds)\n",
    "\n",
    "#Data  = ds.Data\n",
    "#Time  = ds.Fracyear\n",
    "\n",
    "Data  = ds.yearly\n",
    "Time  = ds.years\n"
   ]
  },
  {
   "cell_type": "code",
   "execution_count": 17,
   "metadata": {},
   "outputs": [
    {
     "name": "stdout",
     "output_type": "stream",
     "text": [
      "      Time       Data  const\n",
      "0   1966.0  22.182921      1\n",
      "1   1967.0  18.741550      1\n",
      "2   1968.0  20.495951      1\n",
      "3   1969.0  19.610456      1\n",
      "4   1970.0  20.504193      1\n",
      "5   1971.0  18.294038      1\n",
      "6   1972.0  16.259032      1\n",
      "7   1973.0  22.521386      1\n",
      "8   1974.0  21.647478      1\n",
      "9   1975.0  20.929357      1\n",
      "10  1976.0  21.333065      1\n",
      "11  1977.0  20.300350      1\n",
      "12  1978.0  24.534696      1\n",
      "13  1979.0  21.367272      1\n",
      "14  1980.0  25.095406      1\n",
      "15  1981.0  25.180108      1\n",
      "16  1982.0  22.095299      1\n",
      "17  1983.0  20.384052      1\n",
      "18  1984.0  20.854536      1\n",
      "19  1985.0  23.091236      1\n",
      "20  1986.0  21.170163      1\n",
      "21  1987.0  21.506472      1\n",
      "22  1988.0  24.475902      1\n",
      "23  1989.0  21.757186      1\n",
      "24  1990.0  18.165907      1\n",
      "25  1991.0  27.722928      1\n",
      "26  1992.0  18.196622      1\n",
      "27  1993.0  22.980795      1\n",
      "28  1994.0  19.349438      1\n",
      "29  1995.0  19.349607      1\n",
      "30  1996.0  22.212227      1\n",
      "31  1997.0  19.380930      1\n",
      "32  1998.0  23.018859      1\n",
      "33  1999.0  18.801791      1\n",
      "34  2000.0  23.550182      1\n",
      "35  2001.0  20.194558      1\n",
      "36  2002.0  17.510012      1\n",
      "37  2003.0  19.785997      1\n",
      "38  2004.0  21.241507      1\n",
      "39  2005.0  18.527498      1\n",
      "40  2006.0  21.850143      1\n",
      "41  2007.0  20.786126      1\n",
      "42  2008.0  19.529961      1\n",
      "43  2009.0  23.908660      1\n",
      "44  2010.0  20.670347      1\n",
      "45  2011.0  21.127055      1\n",
      "46  2012.0  21.627447      1\n",
      "47  2013.0  19.275276      1\n",
      "48  2014.0  24.436629      1\n",
      "49  2015.0  19.837550      1\n",
      "50  2016.0  19.215955      1\n",
      "51  2017.0  20.003176      1\n",
      "52  2018.0  20.822718      1\n",
      "53  2019.0  20.666085      1\n"
     ]
    }
   ],
   "source": [
    "# add a constant = 1 \n",
    "df = pd.DataFrame({'Time':Time, 'Data':Data, 'const':1})\n",
    "print (df)"
   ]
  },
  {
   "cell_type": "code",
   "execution_count": 18,
   "metadata": {},
   "outputs": [
    {
     "data": {
      "text/plain": [
       "statsmodels.regression.linear_model.OLS"
      ]
     },
     "execution_count": 18,
     "metadata": {},
     "output_type": "execute_result"
    }
   ],
   "source": [
    "reg1 = sm.OLS(endog=df['Data'], exog=df[['const', 'Time']], \\\n",
    "    missing='drop')\n",
    "type(reg1)"
   ]
  },
  {
   "cell_type": "code",
   "execution_count": 19,
   "metadata": {},
   "outputs": [
    {
     "data": {
      "text/plain": [
       "statsmodels.regression.linear_model.RegressionResultsWrapper"
      ]
     },
     "execution_count": 19,
     "metadata": {},
     "output_type": "execute_result"
    }
   ],
   "source": [
    "results = reg1.fit()\n",
    "type(results)"
   ]
  },
  {
   "cell_type": "code",
   "execution_count": 20,
   "metadata": {},
   "outputs": [
    {
     "name": "stdout",
     "output_type": "stream",
     "text": [
      "                            OLS Regression Results                            \n",
      "==============================================================================\n",
      "Dep. Variable:                   Data   R-squared:                       0.003\n",
      "Model:                            OLS   Adj. R-squared:                 -0.016\n",
      "Method:                 Least Squares   F-statistic:                    0.1438\n",
      "Date:                Tue, 17 Nov 2020   Prob (F-statistic):              0.706\n",
      "Time:                        15:36:42   Log-Likelihood:                -117.96\n",
      "No. Observations:                  54   AIC:                             239.9\n",
      "Df Residuals:                      52   BIC:                             243.9\n",
      "Df Model:                           1                                         \n",
      "Covariance Type:            nonrobust                                         \n",
      "==============================================================================\n",
      "                 coef    std err          t      P>|t|      [0.025      0.975]\n",
      "------------------------------------------------------------------------------\n",
      "const         35.5321     38.121      0.932      0.356     -40.962     112.027\n",
      "Time          -0.0073      0.019     -0.379      0.706      -0.046       0.031\n",
      "==============================================================================\n",
      "Omnibus:                        4.481   Durbin-Watson:                   2.322\n",
      "Prob(Omnibus):                  0.106   Jarque-Bera (JB):                3.412\n",
      "Skew:                           0.539   Prob(JB):                        0.182\n",
      "Kurtosis:                       3.595   Cond. No.                     2.55e+05\n",
      "==============================================================================\n",
      "\n",
      "Warnings:\n",
      "[1] Standard Errors assume that the covariance matrix of the errors is correctly specified.\n",
      "[2] The condition number is large, 2.55e+05. This might indicate that there are\n",
      "strong multicollinearity or other numerical problems.\n"
     ]
    }
   ],
   "source": [
    "print(results.summary())\n"
   ]
  },
  {
   "cell_type": "code",
   "execution_count": 12,
   "metadata": {},
   "outputs": [
    {
     "name": "stdout",
     "output_type": "stream",
     "text": [
      "r-squared: 0.00010056917747335859\n",
      "slope: -0.007559487883452101\n",
      "p value: 0.048164364168877004\n"
     ]
    }
   ],
   "source": [
    "'''\n",
    "compare with scipy linear regression:\n",
    "'''\n",
    "from scipy import stats\n",
    "\n",
    "Data  = ds.Data\n",
    "Time  = ds.Fracyear\n",
    "slope, intercept, r_value, p_value, std_err = stats.linregress(Time.values,Data.values)\n",
    "\n",
    "print (\"r-squared:\", r_value**2)\n",
    "print (\"slope:\", slope)\n",
    "print (\"p value:\", p_value)\n",
    "\n",
    "\n"
   ]
  },
  {
   "cell_type": "code",
   "execution_count": 30,
   "metadata": {},
   "outputs": [
    {
     "data": {
      "text/plain": [
       "(10.0, 30.0)"
      ]
     },
     "execution_count": 30,
     "metadata": {},
     "output_type": "execute_result"
    },
    {
     "data": {
      "image/png": "[encoded data removed]",
      "text/plain": [
       "<Figure size 576x432 with 1 Axes>"
      ]
     },
     "metadata": {
      "needs_background": "light"
     },
     "output_type": "display_data"
    }
   ],
   "source": [
    "fig, ax = plt.subplots(figsize=(8, 6))\n",
    "x = np.arange(1966,2021,1)\n",
    "get_y = lambda a, b: a + b * x\n",
    "\n",
    "\n",
    "ymin = 10.\n",
    "ymax = 30.\n",
    "\n",
    "y = get_y(intercept,slope)\n",
    "\n",
    "ax.scatter(Time, Data, s=15, color='skyblue',alpha=.7)\n",
    "ax.plot(x, y, color='red', linewidth=3, label='OLS')\n",
    "\n",
    "ax.set_xlim((1965,2020))\n",
    "ax.set_ylim((ymin,ymax))\n"
   ]
  },
  {
   "cell_type": "code",
   "execution_count": null,
   "metadata": {},
   "outputs": [],
   "source": []
  }
 ],
 "metadata": {
  "kernelspec": {
   "display_name": "Python 3",
   "language": "python",
   "name": "python3"
  },
  "language_info": {
   "codemirror_mode": {
    "name": "ipython",
    "version": 3
   },
   "file_extension": ".py",
   "mimetype": "text/x-python",
   "name": "python",
   "nbconvert_exporter": "python",
   "pygments_lexer": "ipython3",
   "version": "3.7.4"
  }
 },
 "nbformat": 4,
 "nbformat_minor": 4
}
