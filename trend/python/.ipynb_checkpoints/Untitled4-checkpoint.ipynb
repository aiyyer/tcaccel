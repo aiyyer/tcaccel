{
 "cells": [
  {
   "cell_type": "code",
   "execution_count": 4,
   "metadata": {},
   "outputs": [
    {
     "name": "stdout",
     "output_type": "stream",
     "text": [
      "<xarray.Dataset>\n",
      "Dimensions:    (ncl0: 1, ncl1: 1, ncl2: 1, ncl3: 1, ncl5: 38822, ncl6: 38822, ncl7: 54, ncl8: 54, storm: 38822)\n",
      "Dimensions without coordinates: ncl0, ncl1, ncl2, ncl3, ncl5, ncl6, ncl7, ncl8, storm\n",
      "Data variables:\n",
      "    startYear  (ncl0) int32 ...\n",
      "    endYear    (ncl1) int32 ...\n",
      "    latS       (ncl2) float32 ...\n",
      "    latN       (ncl3) float32 ...\n",
      "    Dates      (storm) datetime64[ns] ...\n",
      "    Data       (ncl5) float64 ...\n",
      "    Fracyear   (ncl6) float32 ...\n",
      "    years      (ncl7) float32 ...\n",
      "    yearly     (ncl8) float64 ...\n"
     ]
    }
   ],
   "source": [
    "'''\n",
    "'''\n",
    "\n",
    "import xarray as xr\n",
    "\n",
    "import numpy as np\n",
    "import pandas as pd\n",
    "import statsmodels.api as sm\n",
    "import statsmodels.formula.api as smf\n",
    "import matplotlib.pyplot as plt\n",
    "import matplotlib.pylab as pl\n",
    "from scipy import stats\n",
    "\n",
    "fileName = './speed_ALL_atl_0_90.nc'\n",
    "fileName = './tang_ALL_atl_0_90.nc'\n",
    "\n",
    "ds = xr.open_dataset(fileName)\n",
    "print(ds)\n",
    "\n"
   ]
  },
  {
   "cell_type": "code",
   "execution_count": 6,
   "metadata": {},
   "outputs": [
    {
     "data": {
      "text/plain": [
       "[<matplotlib.lines.Line2D at 0x7fe307f16290>]"
      ]
     },
     "execution_count": 6,
     "metadata": {},
     "output_type": "execute_result"
    },
    {
     "data": {
      "image/png": "[encoded data removed]",
      "text/plain": [
       "<Figure size 432x288 with 1 Axes>"
      ]
     },
     "metadata": {
      "needs_background": "light"
     },
     "output_type": "display_data"
    }
   ],
   "source": [
    "Data  = ds.Data\n",
    "num_bins = 40\n",
    "counts, bin_edges = np.histogram (Data, bins=num_bins)\n",
    "cdf = np.cumsum (counts)\n",
    "plt.plot (bin_edges[1:], cdf/cdf[-1])"
   ]
  },
  {
   "cell_type": "code",
   "execution_count": 3,
   "metadata": {},
   "outputs": [
    {
     "name": "stdout",
     "output_type": "stream",
     "text": [
      "50%% percentile: 18.871454056500603\n",
      "90%% percentile: 35.45362812852731\n",
      "95%% percentile: 42.37192017131456\n"
     ]
    }
   ],
   "source": [
    "for q in [50, 90, 95]:\n",
    "  print (\"{}%% percentile: {}\".format (q, np.percentile(Data, q)))"
   ]
  },
  {
   "cell_type": "code",
   "execution_count": null,
   "metadata": {},
   "outputs": [],
   "source": []
  }
 ],
 "metadata": {
  "kernelspec": {
   "display_name": "Python 3",
   "language": "python",
   "name": "python3"
  },
  "language_info": {
   "codemirror_mode": {
    "name": "ipython",
    "version": 3
   },
   "file_extension": ".py",
   "mimetype": "text/x-python",
   "name": "python",
   "nbconvert_exporter": "python",
   "pygments_lexer": "ipython3",
   "version": "3.7.6"
  }
 },
 "nbformat": 4,
 "nbformat_minor": 4
}
