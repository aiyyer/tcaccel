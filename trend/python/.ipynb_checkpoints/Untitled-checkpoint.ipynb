{
 "cells": [
  {
   "cell_type": "code",
   "execution_count": 1,
   "metadata": {},
   "outputs": [
    {
     "name": "stdout",
     "output_type": "stream",
     "text": [
      "<xarray.Dataset>\n",
      "Dimensions:    (ncl0: 1, ncl1: 1, ncl2: 1, ncl3: 1, ncl4: 23837, ncl5: 23837)\n",
      "Dimensions without coordinates: ncl0, ncl1, ncl2, ncl3, ncl4, ncl5\n",
      "Data variables:\n",
      "    startYear  (ncl0) int32 ...\n",
      "    endYear    (ncl1) int32 ...\n",
      "    latS       (ncl2) float32 ...\n",
      "    latN       (ncl3) float32 ...\n",
      "    years      (ncl4) float32 ...\n",
      "    accel      (ncl5) float32 ...\n"
     ]
    }
   ],
   "source": [
    "import xarray as xr\n",
    "\n",
    "import numpy as np\n",
    "import pandas as pd\n",
    "import statsmodels.api as sm\n",
    "import statsmodels.formula.api as smf\n",
    "import matplotlib.pyplot as plt\n",
    "\n",
    "\n",
    "fileName = './yearly_tang.nc'\n",
    "ds = xr.open_dataset(fileName)\n",
    "print(ds)\n"
   ]
  },
  {
   "cell_type": "code",
   "execution_count": 9,
   "metadata": {},
   "outputs": [
    {
     "name": "stdout",
     "output_type": "stream",
     "text": [
      "<xarray.DataArray 'accel' (ncl5: 5)>\n",
      "array([55.87232 , 47.906963, 27.877039,  8.496313, -4.878098], dtype=float32)\n",
      "Dimensions without coordinates: ncl5\n",
      "<xarray.DataArray 'years' (ncl4: 5)>\n",
      "array([1966., 1966., 1966., 1966., 1966.], dtype=float32)\n",
      "Dimensions without coordinates: ncl4\n"
     ]
    },
    {
     "data": {
      "text/plain": [
       "<matplotlib.collections.PathCollection at 0x7f21a2200a10>"
      ]
     },
     "execution_count": 9,
     "metadata": {},
     "output_type": "execute_result"
    },
    {
     "data": {
      "image/png": "[encoded data removed]",
      "text/plain": [
       "<Figure size 432x288 with 1 Axes>"
      ]
     },
     "metadata": {
      "needs_background": "light"
     },
     "output_type": "display_data"
    }
   ],
   "source": [
    "accel = ds.accel\n",
    "years = ds.years\n",
    "\n",
    "print(accel.head())\n",
    "print(years.head())\n",
    "\n",
    "\n",
    "plt.scatter(years,accel)\n",
    "\n"
   ]
  },
  {
   "cell_type": "code",
   "execution_count": 24,
   "metadata": {},
   "outputs": [
    {
     "name": "stdout",
     "output_type": "stream",
     "text": [
      "            x          y\n",
      "0      1966.0  55.872318\n",
      "1      1966.0  47.906963\n",
      "2      1966.0  27.877039\n",
      "3      1966.0   8.496313\n",
      "4      1966.0  -4.878098\n",
      "...       ...        ...\n",
      "23832  2019.0  24.959387\n",
      "23833  2019.0  34.897106\n",
      "23834  2019.0  19.167725\n",
      "23835  2019.0   2.846535\n",
      "23836  2019.0   7.800951\n",
      "\n",
      "[23837 rows x 2 columns]\n"
     ]
    }
   ],
   "source": [
    "#data = np.vstack((years,accel)).T\n",
    "#print(data)\n",
    "\n",
    "df = pd.DataFrame({'x':years, 'y':accel})\n",
    "print(df)\n"
   ]
  },
  {
   "cell_type": "code",
   "execution_count": 25,
   "metadata": {},
   "outputs": [
    {
     "name": "stdout",
     "output_type": "stream",
     "text": [
      "                         QuantReg Regression Results                          \n",
      "==============================================================================\n",
      "Dep. Variable:                      x   Pseudo R-squared:           -1.419e-09\n",
      "Model:                       QuantReg   Bandwidth:                       2.747\n",
      "Method:                 Least Squares   Sparsity:                        58.40\n",
      "Date:                Tue, 10 Nov 2020   No. Observations:                23837\n",
      "Time:                        23:14:41   Df Residuals:                    23835\n",
      "                                        Df Model:                            1\n",
      "==============================================================================\n",
      "                 coef    std err          t      P>|t|      [0.025      0.975]\n",
      "------------------------------------------------------------------------------\n",
      "Intercept   1995.0000      0.192   1.04e+04      0.000    1994.625    1995.375\n",
      "y           8.808e-08      0.009    9.3e-06      1.000      -0.019       0.019\n",
      "==============================================================================\n"
     ]
    }
   ],
   "source": [
    "mod = smf.quantreg('x ~ y', df)\n",
    "res = mod.fit(q=.5)\n",
    "print(res.summary())\n"
   ]
  },
  {
   "cell_type": "code",
   "execution_count": null,
   "metadata": {},
   "outputs": [],
   "source": []
  }
 ],
 "metadata": {
  "kernelspec": {
   "display_name": "Python 3",
   "language": "python",
   "name": "python3"
  },
  "language_info": {
   "codemirror_mode": {
    "name": "ipython",
    "version": 3
   },
   "file_extension": ".py",
   "mimetype": "text/x-python",
   "name": "python",
   "nbconvert_exporter": "python",
   "pygments_lexer": "ipython3",
   "version": "3.7.6"
  }
 },
 "nbformat": 4,
 "nbformat_minor": 4
}
