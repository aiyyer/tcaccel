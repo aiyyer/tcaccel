{
 "cells": [
  {
   "cell_type": "code",
   "execution_count": 7,
   "metadata": {},
   "outputs": [],
   "source": [
    "'''\n",
    "Trend\n",
    "'''\n",
    "\n",
    "import xarray as xr\n",
    "from scipy import stats\n"
   ]
  },
  {
   "cell_type": "code",
   "execution_count": 14,
   "metadata": {},
   "outputs": [
    {
     "name": "stdout",
     "output_type": "stream",
     "text": [
      "<xarray.Dataset>\n",
      "Dimensions:            (ncl0: 1, ncl1: 1, ncl2: 1, ncl3: 1, ncl4: 23837, ncl5: 23837, ncl6: 23837, ncl7: 54, ncl8: 54, ncl9: 54)\n",
      "Dimensions without coordinates: ncl0, ncl1, ncl2, ncl3, ncl4, ncl5, ncl6, ncl7, ncl8, ncl9\n",
      "Data variables:\n",
      "    startYear          (ncl0) int32 ...\n",
      "    endYear            (ncl1) int32 ...\n",
      "    latS               (ncl2) float32 ...\n",
      "    latN               (ncl3) float32 ...\n",
      "    acceldate          (ncl4) float64 ...\n",
      "    accelYear          (ncl5) float32 ...\n",
      "    accelData          (ncl6) float32 ...\n",
      "    years              (ncl7) float32 ...\n",
      "    accelYearlyAvePos  (ncl8) float64 ...\n",
      "    accelYearlyAveNeg  (ncl9) float64 ...\n"
     ]
    }
   ],
   "source": [
    "fileName = './yearly_tang.nc'\n",
    "ds = xr.open_dataset(fileName)\n",
    "print(ds)\n"
   ]
  },
  {
   "cell_type": "code",
   "execution_count": 15,
   "metadata": {},
   "outputs": [],
   "source": [
    "#accel = ds.accelYearlyAvePos\n",
    "#years = ds.years\n",
    "\n",
    "accel = ds.accelData\n",
    "years = ds.acceldate\n",
    "\n",
    "#print(accel.head())\n",
    "#print(years.head())"
   ]
  },
  {
   "cell_type": "code",
   "execution_count": 16,
   "metadata": {},
   "outputs": [
    {
     "name": "stdout",
     "output_type": "stream",
     "text": [
      "r-squared: 0.00017124783779750023\n",
      "slope: 4.413311319615674e-05\n"
     ]
    }
   ],
   "source": [
    "slope, intercept, r_value, p_value, std_err = stats.linregress(years.values,accel.values)\n",
    "\n",
    "print (\"r-squared:\", r_value**2)\n",
    "print (\"slope:\", slope)\n",
    "\n",
    "\n"
   ]
  },
  {
   "cell_type": "code",
   "execution_count": null,
   "metadata": {},
   "outputs": [],
   "source": [
    "0   0.05 -170.716313  0.073006  0.024720  0.121292\n",
    "1   0.10  -78.238482  0.030921 -0.000809  0.062651\n",
    "2   0.15  -15.912171  0.001977 -0.022816  0.026769\n",
    "3   0.20    1.316116 -0.005064 -0.025360  0.015232\n",
    "4   0.25    1.443498 -0.003922 -0.019811  0.011968\n",
    "5   0.30   -6.232642  0.000919 -0.015224  0.017062\n",
    "6   0.35  -19.375809  0.008491 -0.007363  0.024344\n",
    "7   0.40  -18.654031  0.009020 -0.001718  0.019758\n",
    "8   0.45  -13.533124  0.006835 -0.003637  0.017308\n",
    "9   0.50  -52.974397  0.027252  0.015587  0.038917\n",
    "10  0.55  -59.667434  0.031439  0.017082  0.045797\n",
    "11  0.60  -54.747281  0.029765  0.015189  0.044340\n",
    "12  0.65  -54.486153  0.030530  0.014867  0.046193\n",
    "13  0.70  -52.397263  0.030464  0.012583  0.048346\n",
    "14  0.75  -39.746533  0.025374  0.004018  0.046730\n",
    "15  0.80  -28.109931  0.021130 -0.002800  0.045061\n",
    "16  0.85   13.626252  0.002320 -0.029300  0.033939\n",
    "17  0.90   81.893049 -0.028954 -0.067034  0.009127\n",
    "18  0.95  309.561361 -0.137687 -0.201371 -0.074002"
   ]
  }
 ],
 "metadata": {
  "kernelspec": {
   "display_name": "Python 3",
   "language": "python",
   "name": "python3"
  },
  "language_info": {
   "codemirror_mode": {
    "name": "ipython",
    "version": 3
   },
   "file_extension": ".py",
   "mimetype": "text/x-python",
   "name": "python",
   "nbconvert_exporter": "python",
   "pygments_lexer": "ipython3",
   "version": "3.7.6"
  }
 },
 "nbformat": 4,
 "nbformat_minor": 4
}
