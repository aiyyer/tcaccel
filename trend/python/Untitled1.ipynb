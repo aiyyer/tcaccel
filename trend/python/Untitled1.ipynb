{
 "cells": [
  {
   "cell_type": "code",
   "execution_count": 2,
   "metadata": {},
   "outputs": [],
   "source": [
    "'''\n",
    "Trend\n",
    "'''\n",
    "\n",
    "import xarray as xr\n",
    "from scipy import stats\n"
   ]
  },
  {
   "cell_type": "code",
   "execution_count": 3,
   "metadata": {},
   "outputs": [
    {
     "name": "stdout",
     "output_type": "stream",
     "text": [
      "<xarray.Dataset>\n",
      "Dimensions:    (ncl0: 1, ncl1: 1, ncl2: 1, ncl3: 1, ncl5: 38822, ncl6: 38822, ncl7: 54, ncl8: 54, storm: 38822)\n",
      "Dimensions without coordinates: ncl0, ncl1, ncl2, ncl3, ncl5, ncl6, ncl7, ncl8, storm\n",
      "Data variables:\n",
      "    startYear  (ncl0) int32 ...\n",
      "    endYear    (ncl1) int32 ...\n",
      "    latS       (ncl2) float32 ...\n",
      "    latN       (ncl3) float32 ...\n",
      "    Dates      (storm) datetime64[ns] ...\n",
      "    Data       (ncl5) float64 ...\n",
      "    Fracyear   (ncl6) float32 ...\n",
      "    years      (ncl7) float32 ...\n",
      "    yearly     (ncl8) float64 ...\n"
     ]
    }
   ],
   "source": [
    "fileName = './speed_ALL_atl_0_90.nc'\n",
    "ds = xr.open_dataset(fileName)\n",
    "print(ds)\n"
   ]
  },
  {
   "cell_type": "code",
   "execution_count": 4,
   "metadata": {},
   "outputs": [],
   "source": [
    "\n",
    "accel = ds.yearly\n",
    "years = ds.years\n"
   ]
  },
  {
   "cell_type": "code",
   "execution_count": 6,
   "metadata": {},
   "outputs": [
    {
     "name": "stdout",
     "output_type": "stream",
     "text": [
      "r-squared: 0.002778379819500034\n",
      "slope: -0.007282014255726518\n",
      "p value: 0.7050292429260645\n"
     ]
    }
   ],
   "source": [
    "slope, intercept, r_value, p_value, std_err = stats.linregress(years.values,accel.values)\n",
    "\n",
    "print (\"r-squared:\", r_value**2)\n",
    "print (\"slope:\", slope)\n",
    "print (\"p value:\", p_value)\n",
    "\n",
    "\n"
   ]
  },
  {
   "cell_type": "code",
   "execution_count": 7,
   "metadata": {},
   "outputs": [
    {
     "name": "stdout",
     "output_type": "stream",
     "text": [
      "r-squared: 0.00010141342194048217\n",
      "slope: -0.0075908456288660015\n",
      "p value: 0.04723443786970055\n"
     ]
    }
   ],
   "source": [
    "Data  = ds.Data\n",
    "Time  = ds.Fracyear\n",
    "slope, intercept, r_value, p_value, std_err = stats.linregress(Time.values,Data.values)\n",
    "\n",
    "print (\"r-squared:\", r_value**2)\n",
    "print (\"slope:\", slope)\n",
    "print (\"p value:\", p_value)\n",
    "\n"
   ]
  },
  {
   "cell_type": "code",
   "execution_count": null,
   "metadata": {},
   "outputs": [],
   "source": [
    "0   0.05 -170.716313  0.073006  0.024720  0.121292\n",
    "1   0.10  -78.238482  0.030921 -0.000809  0.062651\n",
    "2   0.15  -15.912171  0.001977 -0.022816  0.026769\n",
    "3   0.20    1.316116 -0.005064 -0.025360  0.015232\n",
    "4   0.25    1.443498 -0.003922 -0.019811  0.011968\n",
    "5   0.30   -6.232642  0.000919 -0.015224  0.017062\n",
    "6   0.35  -19.375809  0.008491 -0.007363  0.024344\n",
    "7   0.40  -18.654031  0.009020 -0.001718  0.019758\n",
    "8   0.45  -13.533124  0.006835 -0.003637  0.017308\n",
    "9   0.50  -52.974397  0.027252  0.015587  0.038917\n",
    "10  0.55  -59.667434  0.031439  0.017082  0.045797\n",
    "11  0.60  -54.747281  0.029765  0.015189  0.044340\n",
    "12  0.65  -54.486153  0.030530  0.014867  0.046193\n",
    "13  0.70  -52.397263  0.030464  0.012583  0.048346\n",
    "14  0.75  -39.746533  0.025374  0.004018  0.046730\n",
    "15  0.80  -28.109931  0.021130 -0.002800  0.045061\n",
    "16  0.85   13.626252  0.002320 -0.029300  0.033939\n",
    "17  0.90   81.893049 -0.028954 -0.067034  0.009127\n",
    "18  0.95  309.561361 -0.137687 -0.201371 -0.074002"
   ]
  }
 ],
 "metadata": {
  "kernelspec": {
   "display_name": "Python 3",
   "language": "python",
   "name": "python3"
  },
  "language_info": {
   "codemirror_mode": {
    "name": "ipython",
    "version": 3
   },
   "file_extension": ".py",
   "mimetype": "text/x-python",
   "name": "python",
   "nbconvert_exporter": "python",
   "pygments_lexer": "ipython3",
   "version": "3.7.6"
  }
 },
 "nbformat": 4,
 "nbformat_minor": 4
}
