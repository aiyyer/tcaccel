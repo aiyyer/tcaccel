{
 "cells": [
  {
   "cell_type": "code",
   "execution_count": 16,
   "metadata": {},
   "outputs": [
    {
     "name": "stdout",
     "output_type": "stream",
     "text": [
      "<xarray.Dataset>\n",
      "Dimensions:    (ncl0: 1, ncl1: 1, ncl2: 1, ncl3: 1, ncl5: 38822, ncl6: 38822, ncl7: 54, ncl8: 54, storm: 38822)\n",
      "Dimensions without coordinates: ncl0, ncl1, ncl2, ncl3, ncl5, ncl6, ncl7, ncl8, storm\n",
      "Data variables:\n",
      "    startYear  (ncl0) int32 ...\n",
      "    endYear    (ncl1) int32 ...\n",
      "    latS       (ncl2) float32 ...\n",
      "    latN       (ncl3) float32 ...\n",
      "    Dates      (storm) datetime64[ns] ...\n",
      "    Data       (ncl5) float64 ...\n",
      "    Fracyear   (ncl6) float32 ...\n",
      "    years      (ncl7) float32 ...\n",
      "    yearly     (ncl8) float64 ...\n"
     ]
    }
   ],
   "source": [
    "'''\n",
    "OLS using stats models\n",
    "'''\n",
    "\n",
    "\n",
    "\n",
    "import xarray as xr\n",
    "import statsmodels.api as sm\n",
    "import numpy as np\n",
    "import pandas as pd\n",
    "import matplotlib.pyplot as plt\n",
    "from statsmodels.sandbox.regression.predstd import wls_prediction_std\n",
    "\n",
    "fileName = './speed_ALL_atl_0_90.nc'\n",
    "ds = xr.open_dataset(fileName)\n",
    "print(ds)\n",
    "\n",
    "\n",
    "Data  = ds.Data\n",
    "Time  = ds.Fracyear\n"
   ]
  },
  {
   "cell_type": "code",
   "execution_count": 22,
   "metadata": {},
   "outputs": [
    {
     "name": "stdout",
     "output_type": "stream",
     "text": [
      "              Time       Data  const\n",
      "0      1966.422607  12.286803      1\n",
      "1      1966.422974  12.377501      1\n",
      "2      1966.423340  12.738096      1\n",
      "3      1966.423584  13.470362      1\n",
      "4      1966.423950  14.627024      1\n",
      "...            ...        ...    ...\n",
      "38817  2019.896973  54.599385      1\n",
      "38818  2019.897217  59.158931      1\n",
      "38819  2019.897583  63.323662      1\n",
      "38820  2019.897949  63.950863      1\n",
      "38821  2019.898315  64.035296      1\n",
      "\n",
      "[38822 rows x 3 columns]\n"
     ]
    }
   ],
   "source": [
    "# add a constant = 1 \n",
    "df = pd.DataFrame({'Time':Time, 'Data':Data, 'const':1})\n",
    "\n",
    "print (df)"
   ]
  },
  {
   "cell_type": "code",
   "execution_count": 24,
   "metadata": {},
   "outputs": [
    {
     "data": {
      "text/plain": [
       "statsmodels.regression.linear_model.OLS"
      ]
     },
     "execution_count": 24,
     "metadata": {},
     "output_type": "execute_result"
    }
   ],
   "source": [
    "reg1 = sm.OLS(endog=df['Data'], exog=df[['const', 'Time']], \\\n",
    "    missing='drop')\n",
    "type(reg1)"
   ]
  },
  {
   "cell_type": "code",
   "execution_count": 25,
   "metadata": {},
   "outputs": [
    {
     "data": {
      "text/plain": [
       "statsmodels.regression.linear_model.RegressionResultsWrapper"
      ]
     },
     "execution_count": 25,
     "metadata": {},
     "output_type": "execute_result"
    }
   ],
   "source": [
    "results = reg1.fit()\n",
    "type(results)"
   ]
  },
  {
   "cell_type": "code",
   "execution_count": 26,
   "metadata": {},
   "outputs": [
    {
     "name": "stdout",
     "output_type": "stream",
     "text": [
      "                            OLS Regression Results                            \n",
      "==============================================================================\n",
      "Dep. Variable:                   Data   R-squared:                       0.000\n",
      "Model:                            OLS   Adj. R-squared:                  0.000\n",
      "Method:                 Least Squares   F-statistic:                     3.937\n",
      "Date:                Mon, 16 Nov 2020   Prob (F-statistic):             0.0472\n",
      "Time:                        20:42:56   Log-Likelihood:            -1.5233e+05\n",
      "No. Observations:               38822   AIC:                         3.047e+05\n",
      "Df Residuals:                   38820   BIC:                         3.047e+05\n",
      "Df Model:                           1                                         \n",
      "Covariance Type:            nonrobust                                         \n",
      "==============================================================================\n",
      "                 coef    std err          t      P>|t|      [0.025      0.975]\n",
      "------------------------------------------------------------------------------\n",
      "const         35.9802      7.628      4.717      0.000      21.030      50.931\n",
      "Time          -0.0076      0.004     -1.984      0.047      -0.015   -9.27e-05\n",
      "==============================================================================\n",
      "Omnibus:                    12852.987   Durbin-Watson:                   0.148\n",
      "Prob(Omnibus):                  0.000   Jarque-Bera (JB):            56792.404\n",
      "Skew:                           1.573   Prob(JB):                         0.00\n",
      "Kurtosis:                       8.021   Cond. No.                     2.45e+05\n",
      "==============================================================================\n",
      "\n",
      "Notes:\n",
      "[1] Standard Errors assume that the covariance matrix of the errors is correctly specified.\n",
      "[2] The condition number is large, 2.45e+05. This might indicate that there are\n",
      "strong multicollinearity or other numerical problems.\n"
     ]
    }
   ],
   "source": [
    "print(results.summary())\n"
   ]
  },
  {
   "cell_type": "code",
   "execution_count": null,
   "metadata": {},
   "outputs": [],
   "source": []
  }
 ],
 "metadata": {
  "kernelspec": {
   "display_name": "Python 3",
   "language": "python",
   "name": "python3"
  },
  "language_info": {
   "codemirror_mode": {
    "name": "ipython",
    "version": 3
   },
   "file_extension": ".py",
   "mimetype": "text/x-python",
   "name": "python",
   "nbconvert_exporter": "python",
   "pygments_lexer": "ipython3",
   "version": "3.7.6"
  }
 },
 "nbformat": 4,
 "nbformat_minor": 4
}
